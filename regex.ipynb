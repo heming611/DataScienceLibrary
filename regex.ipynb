{
 "cells": [
  {
   "cell_type": "markdown",
   "metadata": {},
   "source": [
    "**regex**: given a string, and a definition of pattern, then search the string to return all those substrings with the given pattern. The input of regex is the string and the definition of pattern. Given these two pieces, we can then do all types of operations.\n",
    "\n",
    "* Pattern identification and creation is the key step. \n",
    "* Work from simple example, and then to include more and more cases by revising the regex.\n",
    "* The pattern we specify is a general expression (fishing net) to exactly cast for the right fishes. "
   ]
  },
  {
   "cell_type": "code",
   "execution_count": 1,
   "metadata": {},
   "outputs": [],
   "source": [
    "import re\n",
    "text_to_search = '''\n",
    "abcdefghijklmnopqrstuvwxyz\n",
    "ABCDEFGHIJKLMNOPQRSTUVWXYZ\n",
    "\n",
    "1234567890\n",
    "Ha HaHa\n",
    "\n",
    "MetaCharacters (Need to be escaped):\n",
    ".^$*+?{}[]\\|()    e.g. we need to put \\. to search for .\n",
    "\n",
    "coreyms.com\n",
    "\n",
    "321-555-4321\n",
    "123.555.1234\n",
    "123*555*1234\n",
    "\n",
    "Mr. Schafer\n",
    "Mr Smith\n",
    "Ms Davis\n",
    "Mrs. Robinson\n",
    "Mr. T\n",
    "\n",
    "cat\n",
    "mat\n",
    "pat\n",
    "bat\n",
    "'''\n",
    "sentence ='Start a sentence and then bring it to an end'"
   ]
  },
  {
   "cell_type": "code",
   "execution_count": 2,
   "metadata": {},
   "outputs": [
    {
     "name": "stdout",
     "output_type": "stream",
     "text": [
      "<_sre.SRE_Match object at 0x10cf58c60>\n"
     ]
    }
   ],
   "source": [
    "pattern = re.compile(r'abc')\n",
    "matches = pattern.finditer(text_to_search)\n",
    "for match in matches:\n",
    "    print (match) "
   ]
  },
  {
   "cell_type": "code",
   "execution_count": 146,
   "metadata": {},
   "outputs": [
    {
     "name": "stdout",
     "output_type": "stream",
     "text": [
      "<_sre.SRE_Match object at 0x10e3d0780>\n"
     ]
    }
   ],
   "source": [
    "pattern = re.compile(r'coreyms\\.com')\n",
    "matches = pattern.finditer(text_to_search)\n",
    "for match in matches:\n",
    "    print (match) "
   ]
  },
  {
   "cell_type": "code",
   "execution_count": 151,
   "metadata": {},
   "outputs": [
    {
     "name": "stdout",
     "output_type": "stream",
     "text": [
      "<_sre.SRE_Match object at 0x10e3d0988>\n"
     ]
    }
   ],
   "source": [
    "pattern = re.compile(r'^Start') #search for a match when \"Start\" is at the beginning of the input string\n",
    "matches = pattern.finditer(sentence)\n",
    "for match in matches:\n",
    "    print (match) "
   ]
  },
  {
   "cell_type": "code",
   "execution_count": 157,
   "metadata": {},
   "outputs": [
    {
     "name": "stdout",
     "output_type": "stream",
     "text": [
      "<_sre.SRE_Match object at 0x10e3d0bf8>\n"
     ]
    }
   ],
   "source": [
    "pattern = re.compile(r'\\d\\d\\d[-\\.]\\d\\d\\d[-\\.]\\d\\d\\d\\d') \n",
    "#[-\\.] is the specified character set, which means that this position can take any but only one character within the set.\n",
    "matches = pattern.finditer(text_to_search)\n",
    "for match in matches:\n",
    "    print (match) "
   ]
  },
  {
   "cell_type": "code",
   "execution_count": null,
   "metadata": {},
   "outputs": [],
   "source": [
    "#The above is to match one character at a time. We can use quantifier to match multiple character the same time\n",
    "pattern = re.compile(r'\\d{3}[-\\.]\\d{3}[-\\.]\\d{4}') \n",
    "#[-\\.] is the specified character set, which means that this position can take any but only one character within the set.\n",
    "matches = pattern.finditer(text_to_search)\n",
    "for match in matches:\n",
    "    print (match) "
   ]
  },
  {
   "cell_type": "code",
   "execution_count": 161,
   "metadata": {},
   "outputs": [
    {
     "name": "stdout",
     "output_type": "stream",
     "text": [
      "<_sre.SRE_Match object at 0x10e478030>\n",
      "<_sre.SRE_Match object at 0x10e3d0c60>\n",
      "<_sre.SRE_Match object at 0x10e478030>\n",
      "<_sre.SRE_Match object at 0x10e3d0c60>\n",
      "<_sre.SRE_Match object at 0x10e478030>\n",
      "<_sre.SRE_Match object at 0x10e3d0c60>\n",
      "<_sre.SRE_Match object at 0x10e478030>\n",
      "<_sre.SRE_Match object at 0x10e3d0c60>\n",
      "<_sre.SRE_Match object at 0x10e478030>\n",
      "<_sre.SRE_Match object at 0x10e3d0c60>\n",
      "<_sre.SRE_Match object at 0x10e478030>\n",
      "<_sre.SRE_Match object at 0x10e3d0c60>\n",
      "<_sre.SRE_Match object at 0x10e3d0cc8>\n",
      "<_sre.SRE_Match object at 0x10e3d0c60>\n",
      "<_sre.SRE_Match object at 0x10e3d0cc8>\n",
      "<_sre.SRE_Match object at 0x10e3d0c60>\n",
      "<_sre.SRE_Match object at 0x10e3d0cc8>\n",
      "<_sre.SRE_Match object at 0x10e3d0c60>\n",
      "<_sre.SRE_Match object at 0x10e3d0cc8>\n",
      "<_sre.SRE_Match object at 0x10e3d0c60>\n",
      "<_sre.SRE_Match object at 0x10e3d0cc8>\n",
      "<_sre.SRE_Match object at 0x10e3d0c60>\n",
      "<_sre.SRE_Match object at 0x10e3d0cc8>\n",
      "<_sre.SRE_Match object at 0x10e3d0c60>\n",
      "<_sre.SRE_Match object at 0x10e3d0cc8>\n",
      "<_sre.SRE_Match object at 0x10e3d0c60>\n",
      "<_sre.SRE_Match object at 0x10e3d0cc8>\n",
      "<_sre.SRE_Match object at 0x10e3d0c60>\n",
      "<_sre.SRE_Match object at 0x10e3d0cc8>\n",
      "<_sre.SRE_Match object at 0x10e3d0c60>\n",
      "<_sre.SRE_Match object at 0x10e3d0cc8>\n",
      "<_sre.SRE_Match object at 0x10e3d0c60>\n",
      "<_sre.SRE_Match object at 0x10e3d0cc8>\n",
      "<_sre.SRE_Match object at 0x10e3d0c60>\n",
      "<_sre.SRE_Match object at 0x10e3d0cc8>\n",
      "<_sre.SRE_Match object at 0x10e3d0c60>\n",
      "<_sre.SRE_Match object at 0x10e3d0cc8>\n",
      "<_sre.SRE_Match object at 0x10e3d0c60>\n",
      "<_sre.SRE_Match object at 0x10e3d0cc8>\n",
      "<_sre.SRE_Match object at 0x10e3d0c60>\n",
      "<_sre.SRE_Match object at 0x10e3d0cc8>\n",
      "<_sre.SRE_Match object at 0x10e3d0c60>\n",
      "<_sre.SRE_Match object at 0x10e3d0cc8>\n",
      "<_sre.SRE_Match object at 0x10e3d0c60>\n",
      "<_sre.SRE_Match object at 0x10e3d0cc8>\n",
      "<_sre.SRE_Match object at 0x10e3d0c60>\n",
      "<_sre.SRE_Match object at 0x10e3d0cc8>\n",
      "<_sre.SRE_Match object at 0x10e3d0c60>\n",
      "<_sre.SRE_Match object at 0x10e3d0cc8>\n",
      "<_sre.SRE_Match object at 0x10e3d0c60>\n",
      "<_sre.SRE_Match object at 0x10e3d0cc8>\n",
      "<_sre.SRE_Match object at 0x10e3d0c60>\n",
      "<_sre.SRE_Match object at 0x10e3d0cc8>\n",
      "<_sre.SRE_Match object at 0x10e3d0c60>\n",
      "<_sre.SRE_Match object at 0x10e3d0cc8>\n",
      "<_sre.SRE_Match object at 0x10e3d0c60>\n",
      "<_sre.SRE_Match object at 0x10e3d0cc8>\n",
      "<_sre.SRE_Match object at 0x10e3d0c60>\n",
      "<_sre.SRE_Match object at 0x10e3d0cc8>\n",
      "<_sre.SRE_Match object at 0x10e3d0c60>\n",
      "<_sre.SRE_Match object at 0x10e3d0cc8>\n",
      "<_sre.SRE_Match object at 0x10e3d0c60>\n",
      "<_sre.SRE_Match object at 0x10e3d0cc8>\n",
      "<_sre.SRE_Match object at 0x10e3d0c60>\n",
      "<_sre.SRE_Match object at 0x10e3d0cc8>\n",
      "<_sre.SRE_Match object at 0x10e3d0c60>\n",
      "<_sre.SRE_Match object at 0x10e3d0cc8>\n",
      "<_sre.SRE_Match object at 0x10e3d0c60>\n",
      "<_sre.SRE_Match object at 0x10e3d0cc8>\n",
      "<_sre.SRE_Match object at 0x10e3d0c60>\n",
      "<_sre.SRE_Match object at 0x10e3d0cc8>\n",
      "<_sre.SRE_Match object at 0x10e3d0c60>\n",
      "<_sre.SRE_Match object at 0x10e3d0cc8>\n",
      "<_sre.SRE_Match object at 0x10e3d0c60>\n",
      "<_sre.SRE_Match object at 0x10e3d0cc8>\n",
      "<_sre.SRE_Match object at 0x10e3d0c60>\n",
      "<_sre.SRE_Match object at 0x10e3d0cc8>\n",
      "<_sre.SRE_Match object at 0x10e3d0c60>\n",
      "<_sre.SRE_Match object at 0x10e3d0cc8>\n",
      "<_sre.SRE_Match object at 0x10e3d0c60>\n",
      "<_sre.SRE_Match object at 0x10e3d0cc8>\n",
      "<_sre.SRE_Match object at 0x10e3d0c60>\n",
      "<_sre.SRE_Match object at 0x10e3d0cc8>\n",
      "<_sre.SRE_Match object at 0x10e3d0c60>\n",
      "<_sre.SRE_Match object at 0x10e3d0cc8>\n",
      "<_sre.SRE_Match object at 0x10e3d0c60>\n",
      "<_sre.SRE_Match object at 0x10e3d0cc8>\n",
      "<_sre.SRE_Match object at 0x10e3d0c60>\n",
      "<_sre.SRE_Match object at 0x10e3d0cc8>\n",
      "<_sre.SRE_Match object at 0x10e3d0c60>\n",
      "<_sre.SRE_Match object at 0x10e3d0cc8>\n",
      "<_sre.SRE_Match object at 0x10e3d0c60>\n",
      "<_sre.SRE_Match object at 0x10e3d0cc8>\n",
      "<_sre.SRE_Match object at 0x10e3d0c60>\n",
      "<_sre.SRE_Match object at 0x10e3d0cc8>\n",
      "<_sre.SRE_Match object at 0x10e3d0c60>\n",
      "<_sre.SRE_Match object at 0x10e3d0cc8>\n",
      "<_sre.SRE_Match object at 0x10e3d0c60>\n",
      "<_sre.SRE_Match object at 0x10e3d0cc8>\n",
      "<_sre.SRE_Match object at 0x10e3d0c60>\n",
      "<_sre.SRE_Match object at 0x10e3d0cc8>\n",
      "<_sre.SRE_Match object at 0x10e3d0c60>\n",
      "<_sre.SRE_Match object at 0x10e3d0cc8>\n",
      "<_sre.SRE_Match object at 0x10e3d0c60>\n",
      "<_sre.SRE_Match object at 0x10e3d0cc8>\n",
      "<_sre.SRE_Match object at 0x10e3d0c60>\n",
      "<_sre.SRE_Match object at 0x10e3d0cc8>\n",
      "<_sre.SRE_Match object at 0x10e3d0c60>\n",
      "<_sre.SRE_Match object at 0x10e3d0cc8>\n",
      "<_sre.SRE_Match object at 0x10e3d0c60>\n",
      "<_sre.SRE_Match object at 0x10e3d0cc8>\n",
      "<_sre.SRE_Match object at 0x10e3d0c60>\n",
      "<_sre.SRE_Match object at 0x10e3d0cc8>\n",
      "<_sre.SRE_Match object at 0x10e3d0c60>\n",
      "<_sre.SRE_Match object at 0x10e3d0cc8>\n",
      "<_sre.SRE_Match object at 0x10e3d0c60>\n",
      "<_sre.SRE_Match object at 0x10e3d0cc8>\n",
      "<_sre.SRE_Match object at 0x10e3d0c60>\n",
      "<_sre.SRE_Match object at 0x10e3d0cc8>\n",
      "<_sre.SRE_Match object at 0x10e3d0c60>\n",
      "<_sre.SRE_Match object at 0x10e3d0cc8>\n",
      "<_sre.SRE_Match object at 0x10e3d0c60>\n",
      "<_sre.SRE_Match object at 0x10e3d0cc8>\n",
      "<_sre.SRE_Match object at 0x10e3d0c60>\n",
      "<_sre.SRE_Match object at 0x10e3d0cc8>\n",
      "<_sre.SRE_Match object at 0x10e3d0c60>\n",
      "<_sre.SRE_Match object at 0x10e3d0cc8>\n",
      "<_sre.SRE_Match object at 0x10e3d0c60>\n",
      "<_sre.SRE_Match object at 0x10e3d0cc8>\n",
      "<_sre.SRE_Match object at 0x10e3d0c60>\n",
      "<_sre.SRE_Match object at 0x10e3d0cc8>\n",
      "<_sre.SRE_Match object at 0x10e3d0c60>\n",
      "<_sre.SRE_Match object at 0x10e3d0cc8>\n",
      "<_sre.SRE_Match object at 0x10e3d0c60>\n",
      "<_sre.SRE_Match object at 0x10e3d0cc8>\n",
      "<_sre.SRE_Match object at 0x10e3d0c60>\n",
      "<_sre.SRE_Match object at 0x10e3d0cc8>\n",
      "<_sre.SRE_Match object at 0x10e3d0c60>\n",
      "<_sre.SRE_Match object at 0x10e3d0cc8>\n",
      "<_sre.SRE_Match object at 0x10e3d0c60>\n",
      "<_sre.SRE_Match object at 0x10e3d0cc8>\n",
      "<_sre.SRE_Match object at 0x10e3d0c60>\n",
      "<_sre.SRE_Match object at 0x10e3d0cc8>\n",
      "<_sre.SRE_Match object at 0x10e3d0c60>\n",
      "<_sre.SRE_Match object at 0x10e3d0cc8>\n",
      "<_sre.SRE_Match object at 0x10e3d0c60>\n",
      "<_sre.SRE_Match object at 0x10e3d0cc8>\n",
      "<_sre.SRE_Match object at 0x10e3d0c60>\n",
      "<_sre.SRE_Match object at 0x10e3d0cc8>\n",
      "<_sre.SRE_Match object at 0x10e3d0c60>\n",
      "<_sre.SRE_Match object at 0x10e3d0cc8>\n",
      "<_sre.SRE_Match object at 0x10e3d0c60>\n",
      "<_sre.SRE_Match object at 0x10e3d0cc8>\n",
      "<_sre.SRE_Match object at 0x10e3d0c60>\n",
      "<_sre.SRE_Match object at 0x10e3d0cc8>\n"
     ]
    }
   ],
   "source": [
    "pattern = re.compile(r'[1-9a-z]') #- between two numbers or characters means to include all values within the range\n",
    "#[-.] is the specified character set, which means that this position can take any but only one character within the set.\n",
    "matches = pattern.finditer(text_to_search)\n",
    "for match in matches:\n",
    "    print (match) "
   ]
  },
  {
   "cell_type": "code",
   "execution_count": 163,
   "metadata": {},
   "outputs": [
    {
     "name": "stdout",
     "output_type": "stream",
     "text": [
      "<_sre.SRE_Match object at 0x10e485100>\n",
      "<_sre.SRE_Match object at 0x10e3d0cc8>\n",
      "<_sre.SRE_Match object at 0x10e485100>\n",
      "<_sre.SRE_Match object at 0x10e3d0cc8>\n",
      "<_sre.SRE_Match object at 0x10e485100>\n",
      "<_sre.SRE_Match object at 0x10e3d0cc8>\n",
      "<_sre.SRE_Match object at 0x10e485100>\n",
      "<_sre.SRE_Match object at 0x10e3d0cc8>\n",
      "<_sre.SRE_Match object at 0x10e485100>\n",
      "<_sre.SRE_Match object at 0x10e3d0cc8>\n",
      "<_sre.SRE_Match object at 0x10e485030>\n",
      "<_sre.SRE_Match object at 0x10e3d0cc8>\n",
      "<_sre.SRE_Match object at 0x10e485030>\n",
      "<_sre.SRE_Match object at 0x10e3d0cc8>\n",
      "<_sre.SRE_Match object at 0x10e47e030>\n",
      "<_sre.SRE_Match object at 0x10e3d0cc8>\n",
      "<_sre.SRE_Match object at 0x10e47e030>\n",
      "<_sre.SRE_Match object at 0x10e3d0cc8>\n",
      "<_sre.SRE_Match object at 0x10e47e030>\n",
      "<_sre.SRE_Match object at 0x10e3d0cc8>\n",
      "<_sre.SRE_Match object at 0x10e47e030>\n",
      "<_sre.SRE_Match object at 0x10e3d0cc8>\n",
      "<_sre.SRE_Match object at 0x10e47e030>\n",
      "<_sre.SRE_Match object at 0x10e3d0cc8>\n",
      "<_sre.SRE_Match object at 0x10e47e030>\n",
      "<_sre.SRE_Match object at 0x10e3d0cc8>\n",
      "<_sre.SRE_Match object at 0x10e47e030>\n",
      "<_sre.SRE_Match object at 0x10e3d0cc8>\n",
      "<_sre.SRE_Match object at 0x10e47e030>\n",
      "<_sre.SRE_Match object at 0x10e3d0cc8>\n",
      "<_sre.SRE_Match object at 0x10e47e030>\n",
      "<_sre.SRE_Match object at 0x10e3d0cc8>\n",
      "<_sre.SRE_Match object at 0x10e47e030>\n",
      "<_sre.SRE_Match object at 0x10e3d0cc8>\n",
      "<_sre.SRE_Match object at 0x10e47e030>\n",
      "<_sre.SRE_Match object at 0x10e3d0cc8>\n",
      "<_sre.SRE_Match object at 0x10e485098>\n",
      "<_sre.SRE_Match object at 0x10e3d0cc8>\n",
      "<_sre.SRE_Match object at 0x10e485098>\n",
      "<_sre.SRE_Match object at 0x10e3d0cc8>\n",
      "<_sre.SRE_Match object at 0x10e47e030>\n",
      "<_sre.SRE_Match object at 0x10e3d0cc8>\n",
      "<_sre.SRE_Match object at 0x10e47e030>\n",
      "<_sre.SRE_Match object at 0x10e3d0cc8>\n",
      "<_sre.SRE_Match object at 0x10e47e030>\n",
      "<_sre.SRE_Match object at 0x10e3d0cc8>\n",
      "<_sre.SRE_Match object at 0x10e47e030>\n",
      "<_sre.SRE_Match object at 0x10e3d0cc8>\n",
      "<_sre.SRE_Match object at 0x10e47e030>\n",
      "<_sre.SRE_Match object at 0x10e3d0cc8>\n",
      "<_sre.SRE_Match object at 0x10e47e030>\n",
      "<_sre.SRE_Match object at 0x10e3d0cc8>\n",
      "<_sre.SRE_Match object at 0x10e47e030>\n",
      "<_sre.SRE_Match object at 0x10e3d0cc8>\n",
      "<_sre.SRE_Match object at 0x10e47e030>\n",
      "<_sre.SRE_Match object at 0x10e3d0cc8>\n",
      "<_sre.SRE_Match object at 0x10e47e030>\n",
      "<_sre.SRE_Match object at 0x10e3d0cc8>\n",
      "<_sre.SRE_Match object at 0x10e47e030>\n",
      "<_sre.SRE_Match object at 0x10e3d0cc8>\n",
      "<_sre.SRE_Match object at 0x10e47e030>\n",
      "<_sre.SRE_Match object at 0x10e3d0cc8>\n",
      "<_sre.SRE_Match object at 0x10e47e030>\n",
      "<_sre.SRE_Match object at 0x10e3d0cc8>\n",
      "<_sre.SRE_Match object at 0x10e47e030>\n",
      "<_sre.SRE_Match object at 0x10e3d0cc8>\n",
      "<_sre.SRE_Match object at 0x10e47e030>\n",
      "<_sre.SRE_Match object at 0x10e3d0cc8>\n",
      "<_sre.SRE_Match object at 0x10e47e030>\n",
      "<_sre.SRE_Match object at 0x10e3d0cc8>\n",
      "<_sre.SRE_Match object at 0x10e47e030>\n",
      "<_sre.SRE_Match object at 0x10e3d0cc8>\n",
      "<_sre.SRE_Match object at 0x10e47e030>\n",
      "<_sre.SRE_Match object at 0x10e3d0cc8>\n",
      "<_sre.SRE_Match object at 0x10e47e030>\n",
      "<_sre.SRE_Match object at 0x10e3d0cc8>\n",
      "<_sre.SRE_Match object at 0x10e47e030>\n",
      "<_sre.SRE_Match object at 0x10e3d0cc8>\n",
      "<_sre.SRE_Match object at 0x10e47e030>\n",
      "<_sre.SRE_Match object at 0x10e3d0cc8>\n",
      "<_sre.SRE_Match object at 0x10e47e030>\n",
      "<_sre.SRE_Match object at 0x10e3d0cc8>\n",
      "<_sre.SRE_Match object at 0x10e47e030>\n",
      "<_sre.SRE_Match object at 0x10e3d0cc8>\n",
      "<_sre.SRE_Match object at 0x10e47e030>\n",
      "<_sre.SRE_Match object at 0x10e3d0cc8>\n",
      "<_sre.SRE_Match object at 0x10e485098>\n",
      "<_sre.SRE_Match object at 0x10e3d0cc8>\n",
      "<_sre.SRE_Match object at 0x10e485098>\n",
      "<_sre.SRE_Match object at 0x10e3d0cc8>\n",
      "<_sre.SRE_Match object at 0x10e485098>\n",
      "<_sre.SRE_Match object at 0x10e3d0cc8>\n",
      "<_sre.SRE_Match object at 0x10e485098>\n",
      "<_sre.SRE_Match object at 0x10e3d0cc8>\n",
      "<_sre.SRE_Match object at 0x10e485098>\n",
      "<_sre.SRE_Match object at 0x10e3d0cc8>\n",
      "<_sre.SRE_Match object at 0x10e485098>\n",
      "<_sre.SRE_Match object at 0x10e3d0cc8>\n",
      "<_sre.SRE_Match object at 0x10e485098>\n",
      "<_sre.SRE_Match object at 0x10e3d0cc8>\n",
      "<_sre.SRE_Match object at 0x10e485098>\n",
      "<_sre.SRE_Match object at 0x10e3d0cc8>\n",
      "<_sre.SRE_Match object at 0x10e485098>\n",
      "<_sre.SRE_Match object at 0x10e3d0cc8>\n",
      "<_sre.SRE_Match object at 0x10e485098>\n",
      "<_sre.SRE_Match object at 0x10e3d0cc8>\n",
      "<_sre.SRE_Match object at 0x10e485098>\n",
      "<_sre.SRE_Match object at 0x10e3d0cc8>\n",
      "<_sre.SRE_Match object at 0x10e485098>\n",
      "<_sre.SRE_Match object at 0x10e3d0cc8>\n",
      "<_sre.SRE_Match object at 0x10e485098>\n",
      "<_sre.SRE_Match object at 0x10e3d0cc8>\n",
      "<_sre.SRE_Match object at 0x10e485098>\n",
      "<_sre.SRE_Match object at 0x10e3d0cc8>\n",
      "<_sre.SRE_Match object at 0x10e485098>\n",
      "<_sre.SRE_Match object at 0x10e3d0cc8>\n",
      "<_sre.SRE_Match object at 0x10e485098>\n",
      "<_sre.SRE_Match object at 0x10e3d0cc8>\n",
      "<_sre.SRE_Match object at 0x10e485098>\n"
     ]
    }
   ],
   "source": [
    "pattern = re.compile(r'[^1-9a-z]') #^ at the beginning inside the character set means everything not in the character set\n",
    "#[-.] is the specified character set, which means that this position can take any but only one character within the set.\n",
    "matches = pattern.finditer(text_to_search)\n",
    "for match in matches:\n",
    "    print (match) "
   ]
  },
  {
   "cell_type": "code",
   "execution_count": 166,
   "metadata": {
    "scrolled": true
   },
   "outputs": [
    {
     "name": "stdout",
     "output_type": "stream",
     "text": [
      "<_sre.SRE_Match object at 0x10e485238>\n",
      "<_sre.SRE_Match object at 0x10e485098>\n",
      "<_sre.SRE_Match object at 0x10e485238>\n"
     ]
    }
   ],
   "source": [
    "pattern = re.compile(r'[^b]at') #- between two numbers or characters means to include all values within the range\n",
    "#[-.] is the specified character set, which means that this position can take any but only one character within the set.\n",
    "matches = pattern.finditer(text_to_search)\n",
    "for match in matches:\n",
    "    print (match) "
   ]
  },
  {
   "cell_type": "code",
   "execution_count": 167,
   "metadata": {},
   "outputs": [
    {
     "name": "stdout",
     "output_type": "stream",
     "text": [
      "<_sre.SRE_Match object at 0x10e4852a0>\n",
      "<_sre.SRE_Match object at 0x10e485238>\n"
     ]
    }
   ],
   "source": [
    "#The above is to match one character at a time. We can use quantifier to match multiple character the same time\n",
    "pattern = re.compile(r'Mr\\.') \n",
    "#[-\\.] is the specified character set, which means that this position can take any but only one character within the set.\n",
    "matches = pattern.finditer(text_to_search)\n",
    "for match in matches:\n",
    "    print (match) "
   ]
  },
  {
   "cell_type": "code",
   "execution_count": 168,
   "metadata": {},
   "outputs": [
    {
     "name": "stdout",
     "output_type": "stream",
     "text": [
      "<_sre.SRE_Match object at 0x10e485308>\n",
      "<_sre.SRE_Match object at 0x10e485238>\n",
      "<_sre.SRE_Match object at 0x10e485308>\n",
      "<_sre.SRE_Match object at 0x10e485238>\n"
     ]
    }
   ],
   "source": [
    "pattern = re.compile(r'Mr\\.?')  #? means there can be 0 or one . after Mr\n",
    "#[-\\.] is the specified character set, which means that this position can take any but only one character within the set.\n",
    "matches = pattern.finditer(text_to_search)\n",
    "for match in matches:\n",
    "    print (match) "
   ]
  },
  {
   "cell_type": "code",
   "execution_count": 169,
   "metadata": {},
   "outputs": [
    {
     "name": "stdout",
     "output_type": "stream",
     "text": [
      "<_sre.SRE_Match object at 0x10e485370>\n",
      "<_sre.SRE_Match object at 0x10e485238>\n",
      "<_sre.SRE_Match object at 0x10e485370>\n"
     ]
    }
   ],
   "source": [
    "pattern = re.compile(r'Mr\\.?\\s[A-Z]\\w*')  \n",
    "#[-\\.] is the specified character set, which means that this position can take any but only one character within the set.\n",
    "matches = pattern.finditer(text_to_search)\n",
    "for match in matches:\n",
    "    print (match) "
   ]
  },
  {
   "cell_type": "code",
   "execution_count": null,
   "metadata": {},
   "outputs": [],
   "source": [
    "pattern = re.compile(r'M(r|s|rs)\\.?\\s[A-Z]\\w*')  # | within the group operator means or\n",
    "#[-\\.] is the specified character set, which means that this position can take any but only one character within the set.\n",
    "matches = pattern.finditer(text_to_search)\n",
    "for match in matches:\n",
    "    print (match) "
   ]
  },
  {
   "cell_type": "code",
   "execution_count": 180,
   "metadata": {},
   "outputs": [],
   "source": [
    "emails = '''\n",
    "CoreyMSchafer@gmail.com\n",
    "corey.schafer@university.edu\n",
    "corey-321-schafer@my-work.net\n",
    "'''"
   ]
  },
  {
   "cell_type": "code",
   "execution_count": 187,
   "metadata": {},
   "outputs": [
    {
     "name": "stdout",
     "output_type": "stream",
     "text": [
      "<_sre.SRE_Match object at 0x10e36da08>\n",
      "<_sre.SRE_Match object at 0x10e36ddc8>\n",
      "<_sre.SRE_Match object at 0x10e36d198>\n"
     ]
    }
   ],
   "source": [
    "string1 = r'\\w*@\\w*(.com|.net)'\n",
    "string2 = r'[a-zA-Z.0-9-]+@[a-zA-Z-]+\\.(com|edu|net)'\n",
    "string3 = r'[a-zA-Z0-9_.+-]+@[a-zA-Z0-9-]+\\.[a-zA-Z0-9-.]+'\n",
    "pattern = re.compile(string2)\n",
    "matches = pattern.finditer(emails)\n",
    "for match in matches:\n",
    "    print (match) "
   ]
  },
  {
   "cell_type": "code",
   "execution_count": 5,
   "metadata": {},
   "outputs": [
    {
     "name": "stdout",
     "output_type": "stream",
     "text": [
      "https://www.google.com\n",
      "http://coreyms.com\n",
      "https://youtube.com\n",
      "https://www.nasa.gov\n"
     ]
    }
   ],
   "source": [
    "urls = '''\n",
    "https://www.google.com\n",
    "http://coreyms.com\n",
    "https://youtube.com\n",
    "https://www.nasa.gov\n",
    "'''\n",
    "pattern = re.compile(r'https?://(www\\.)?(\\w+)(\\.\\w+)')\n",
    "matches = pattern.finditer(urls)\n",
    "for match in matches:\n",
    "    print (match.group(0)) #group(0) is the collection of all\n",
    "    #print (match.group(2))\n"
   ]
  },
  {
   "cell_type": "code",
   "execution_count": null,
   "metadata": {},
   "outputs": [],
   "source": []
  },
  {
   "cell_type": "code",
   "execution_count": 13,
   "metadata": {},
   "outputs": [
    {
     "name": "stdout",
     "output_type": "stream",
     "text": [
      "skill/business_management\n",
      "skill/business_process_reengineering\n",
      "skill/business_to_business\n"
     ]
    }
   ],
   "source": [
    "urls = ['administrative_skills/medical_billing', \n",
    "        'benefit/daily_bonus', \n",
    "        'skill/business_management',\n",
    "        'skill/business_process_reengineering',\n",
    "        'skill/business_to_business']\n",
    "\n",
    "pattern = re.compile(r'skill/.*')\n",
    "for i in urls:\n",
    "    matches = pattern.finditer(i)\n",
    "    for match in matches:\n",
    "        print (match.group(0)) #group(0) is the collection of all\n",
    "    #print (match.group(2))\n"
   ]
  },
  {
   "cell_type": "markdown",
   "metadata": {},
   "source": [
    "#### Character matches\n",
    "\n",
    "* . : any character except new line\n",
    "* \\d : Digit 0-9\n",
    "* \\D : not a digit (0-9)\n",
    "* \\w : word character (a-z, A-Z, 0-9, _)\n",
    "* \\W : not a word character\n",
    "* \\s : Whitespace (space, tab, newline)\n",
    "\n",
    "#### Anchors (invisible positions before and after characters)\n",
    "* \\b : word boundary (white space or none alpha numeric character)\n",
    "* \\B : not a word boundary\n",
    "* ^ : beginning of a string\n",
    "* $ : end of a string\n",
    "\n",
    "#### Quantifiers\n",
    "* \\* : 0 or more\n",
    "* \\+ : 1 or more\n",
    "* ? : 0 or one\n",
    "* {3} : exact number\n",
    "* {3,5} : range of numbers (minimum, maximum)\n",
    "\n",
    "#### \n",
    "* | : or\n",
    "* (): groups"
   ]
  },
  {
   "cell_type": "code",
   "execution_count": null,
   "metadata": {},
   "outputs": [],
   "source": []
  }
 ],
 "metadata": {
  "kernelspec": {
   "display_name": "Python 2",
   "language": "python",
   "name": "python2"
  },
  "language_info": {
   "codemirror_mode": {
    "name": "ipython",
    "version": 3
   },
   "file_extension": ".py",
   "mimetype": "text/x-python",
   "name": "python",
   "nbconvert_exporter": "python",
   "pygments_lexer": "ipython3",
   "version": "3.6.4"
  }
 },
 "nbformat": 4,
 "nbformat_minor": 2
}
