{
 "cells": [
  {
   "cell_type": "code",
   "execution_count": 1,
   "id": "357e6a1b",
   "metadata": {},
   "outputs": [],
   "source": [
    "from package import *\n",
    "import importlib\n",
    "import utility as u\n",
    "importlib.reload(u)\n",
    "pass\n"
   ]
  },
  {
   "cell_type": "code",
   "execution_count": 3,
   "id": "4e7e395d",
   "metadata": {
    "scrolled": true
   },
   "outputs": [],
   "source": [
    "conn = snowflake.connector.connect(\n",
    "    user=u.SNOWFLAKE_USER,\n",
    "    role=u.SNOWFLAKE_ROLE,\n",
    "    private_key=private_key,\n",
    "    account=\"xxx\",\n",
    "    warehouse=u.SNOWFLAKE_WAREHOUSE\n",
    "    )\n"
   ]
  },
  {
   "cell_type": "code",
   "execution_count": 5,
   "id": "cf6b2b4b",
   "metadata": {},
   "outputs": [
    {
     "name": "stdout",
     "output_type": "stream",
     "text": [
      "Step 1: download invoice data starting from 2021-08-01\n",
      "invoice data shape: (10452082, 12)\n",
      "execution time in mins: 8.0\n",
      "Step 2: download advertiser data\n",
      "advertiser data shape: (49275393, 3)\n",
      "execution time in mins: 5.0\n",
      "Step 3: close snowflake connector\n"
     ]
    }
   ],
   "source": [
    "data_collector = u.DataCollectorUtilClass(conn)\n",
    "data_collector.run(u.START_DATE_TRAIN_DATA)\n"
   ]
  },
  {
   "cell_type": "code",
   "execution_count": null,
   "id": "a40d62a1",
   "metadata": {},
   "outputs": [],
   "source": []
  }
 ],
 "metadata": {
  "input_parameters": [],
  "kernelspec": {
   "display_name": "Python 3 (ipykernel)",
   "language": "python",
   "name": "python3"
  },
  "language_info": {
   "codemirror_mode": {
    "name": "ipython",
    "version": 3
   },
   "file_extension": ".py",
   "mimetype": "text/x-python",
   "name": "python",
   "nbconvert_exporter": "python",
   "pygments_lexer": "ipython3",
   "version": "3.9.7"
  },
  "name": ""
 },
 "nbformat": 4,
 "nbformat_minor": 5
}
