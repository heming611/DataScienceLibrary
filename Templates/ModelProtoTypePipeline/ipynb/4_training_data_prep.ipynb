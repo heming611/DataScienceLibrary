{
 "cells": [
  {
   "cell_type": "code",
   "execution_count": null,
   "id": "d33ff2e6",
   "metadata": {},
   "outputs": [],
   "source": [
    "from package import *\n",
    "import importlib\n",
    "import utility as u\n",
    "importlib.reload(u)\n",
    "pass\n"
   ]
  },
  {
   "cell_type": "code",
   "execution_count": null,
   "id": "09757669",
   "metadata": {},
   "outputs": [],
   "source": [
    "df = pd.read_parquet(f\"../data/data.parquet\")\n"
   ]
  },
  {
   "cell_type": "markdown",
   "id": "3a59d808",
   "metadata": {},
   "source": [
    "### Feature Engineering"
   ]
  },
  {
   "cell_type": "code",
   "execution_count": null,
   "id": "1bd86370",
   "metadata": {},
   "outputs": [],
   "source": [
    "feature_engineer = u.FeatureEngineerUtilClass()\n",
    "df_train = feature_engineer.run(df)\n"
   ]
  },
  {
   "cell_type": "markdown",
   "id": "bdfc7993",
   "metadata": {},
   "source": [
    "### Create Train Data"
   ]
  },
  {
   "cell_type": "code",
   "execution_count": null,
   "id": "346a85ac",
   "metadata": {},
   "outputs": [],
   "source": [
    "df_train.to_parquet(f\"../data/data_train_test.parquet\", index=False)\n"
   ]
  },
  {
   "cell_type": "code",
   "execution_count": null,
   "id": "51cb1ea0",
   "metadata": {},
   "outputs": [],
   "source": []
  }
 ],
 "metadata": {
  "input_parameters": [],
  "kernelspec": {
   "display_name": "Python 3 (ipykernel)",
   "language": "python",
   "name": "python3"
  },
  "language_info": {
   "codemirror_mode": {
    "name": "ipython",
    "version": 3
   },
   "file_extension": ".py",
   "mimetype": "text/x-python",
   "name": "python",
   "nbconvert_exporter": "python",
   "pygments_lexer": "ipython3",
   "version": "3.9.7"
  },
  "name": ""
 },
 "nbformat": 4,
 "nbformat_minor": 5
}
