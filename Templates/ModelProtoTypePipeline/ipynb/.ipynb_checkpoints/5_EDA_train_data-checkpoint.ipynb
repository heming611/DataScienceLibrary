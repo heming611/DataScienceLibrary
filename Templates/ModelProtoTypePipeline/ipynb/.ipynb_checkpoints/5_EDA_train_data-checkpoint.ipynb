{
 "cells": [
  {
   "cell_type": "code",
   "execution_count": null,
   "id": "b1b1f182",
   "metadata": {},
   "outputs": [],
   "source": [
    "from package import *\n",
    "import importlib\n",
    "import utility as u\n",
    "importlib.reload(u)\n",
    "pass\n"
   ]
  },
  {
   "cell_type": "code",
   "execution_count": null,
   "id": "7b80ede1",
   "metadata": {},
   "outputs": [],
   "source": [
    "eda_util = u.EDAUtilClass()\n",
    "\n",
    "categorical_features = [\"A\", \"B\"]\n",
    "\n",
    "historical_features = [\"C\", \"D\"]\n"
   ]
  },
  {
   "cell_type": "code",
   "execution_count": null,
   "id": "ef1e29a2",
   "metadata": {},
   "outputs": [],
   "source": [
    "df = pd.read_parquet(f\"../data/data_train_test.parquet\")\n",
    "#df.profile_report()\n"
   ]
  },
  {
   "cell_type": "markdown",
   "id": "452d7ba1",
   "metadata": {},
   "source": [
    "# Marginal Analysis"
   ]
  },
  {
   "cell_type": "markdown",
   "id": "b0dda8c3",
   "metadata": {},
   "source": [
    "## Distribution of Target\n"
   ]
  },
  {
   "cell_type": "code",
   "execution_count": null,
   "id": "3230a1f6",
   "metadata": {},
   "outputs": [],
   "source": [
    "plt.figure(figsize=(8,6))\n",
    "sns.histplot(df[u.TARGET_COL])\n",
    "plt.title(\"abc\")\n",
    "plt.savefig(fname=f\"../plot/EDA/target_distribution.png\", bbox_inches=\"tight\")\n",
    "pass\n"
   ]
  },
  {
   "cell_type": "code",
   "execution_count": null,
   "id": "b83d232c",
   "metadata": {},
   "outputs": [],
   "source": [
    "# Generate x and y values for ECDF: x, y\n",
    "plt.figure(figsize=(10,8))\n",
    "x, y = dcst.ecdf(df[\"target\"])\n",
    "# Plot the ECDF as dots\n",
    "_ = plt.plot(x, y, lw = 2)\n",
    "_ = plt.xlabel('x', size = 14)\n",
    "_ = plt.ylabel('ECDF', size = 14)\n",
    "plt.xlim(0, df[\"target\"].max())\n",
    "plt.show()\n"
   ]
  },
  {
   "cell_type": "markdown",
   "id": "f1ad2167",
   "metadata": {},
   "source": [
    "## Distributions of Features"
   ]
  },
  {
   "cell_type": "code",
   "execution_count": null,
   "id": "60998093",
   "metadata": {},
   "outputs": [],
   "source": [
    "for feature in categorical_features:\n",
    "    print(feature)\n",
    "    display(eda_util.row_percentage_by_categorical_feature(df, feature))\n",
    "    "
   ]
  },
  {
   "cell_type": "code",
   "execution_count": null,
   "id": "63f59e70",
   "metadata": {},
   "outputs": [],
   "source": [
    "plt.figure(figsize=(14, 8))\n",
    "\n",
    "for i, feature in enumerate(historical_features):\n",
    "    plt.subplot(2, 3, i+1)\n",
    "    sns.histplot(df[feature])\n",
    "    plt.title(f\"histogram of {feature}\")\n",
    "plt.suptitle(\"x\")\n",
    "plt.tight_layout()\n",
    "plt.savefig(fname=f\"../plot/EDA/continuous_feature_distribution.png\", bbox_inches=\"tight\")\n"
   ]
  },
  {
   "cell_type": "code",
   "execution_count": null,
   "id": "53947954",
   "metadata": {},
   "outputs": [],
   "source": []
  },
  {
   "cell_type": "markdown",
   "id": "e79ee574",
   "metadata": {},
   "source": [
    "# Conditional Analysis"
   ]
  },
  {
   "cell_type": "markdown",
   "id": "9f257964",
   "metadata": {},
   "source": [
    "## Correlation Matrix"
   ]
  },
  {
   "cell_type": "code",
   "execution_count": null,
   "id": "05a56c37",
   "metadata": {},
   "outputs": [],
   "source": [
    "eda_util.correlation_heatmap(data=df[u.FEATURE_COLS+[u.TARGET_COL]], \n",
    "                             save_to_path=f\"../plot/EDA/correlation_heatmap.png\",\n",
    "                             figsize=(14, 8))\n"
   ]
  },
  {
   "cell_type": "markdown",
   "id": "d57662dd",
   "metadata": {},
   "source": [
    "## Variation of Target by Categorical Features"
   ]
  },
  {
   "cell_type": "markdown",
   "id": "7c9b2a49",
   "metadata": {},
   "source": [
    "### Variation of Target by Feature A"
   ]
  },
  {
   "cell_type": "code",
   "execution_count": null,
   "id": "e9c26d60",
   "metadata": {},
   "outputs": [],
   "source": [
    "df_tmp = df.groupby([\"A\"]).agg({\"target\":[\"mean\",\"median\"], \n",
    "                                \"B\":\"nunique\"\n",
    "                               })\n",
    "round(df_tmp, 0)\n"
   ]
  },
  {
   "cell_type": "code",
   "execution_count": null,
   "id": "176eea78",
   "metadata": {
    "scrolled": true
   },
   "outputs": [],
   "source": [
    "feature_col = \"A\"\n",
    "\n",
    "eda_util.variation_of_target_by_feature(\n",
    "    data=df,\n",
    "    feature_col=feature_col, \n",
    "    target_col=u.TARGET_COL, \n",
    "    num_row=3, \n",
    "    num_col=2,\n",
    "    figsize=(12,15),\n",
    "    feature_type=\"categorical\",\n",
    "    target_type=\"categorical\",\n",
    "    sup_title=f\"Distribution of Target Conditional on Different Values of {feature_col}\",\n",
    "    save_to_path=f\"../plot/EDA/variation_of_target_distribution_by_feature_A.png\"\n",
    ")\n"
   ]
  },
  {
   "cell_type": "markdown",
   "id": "9350af8e",
   "metadata": {},
   "source": [
    "## Variation of Target by Continuous Features"
   ]
  },
  {
   "cell_type": "markdown",
   "id": "fb01a80f",
   "metadata": {},
   "source": [
    "### Variation of Target by Feature B"
   ]
  },
  {
   "cell_type": "code",
   "execution_count": null,
   "id": "77e62aa1",
   "metadata": {
    "scrolled": true
   },
   "outputs": [],
   "source": [
    "\n",
    "for feature in historical_features:\n",
    "    eda_util.variation_of_target_by_feature(\n",
    "        data=df,\n",
    "        feature_col=feature, \n",
    "        target_col=u.TARGET_COL, \n",
    "        num_row=1, \n",
    "        num_col=2,\n",
    "        figsize=(12,5),\n",
    "        feature_type=\"continuous\",\n",
    "        target_type=\"categorical\",\n",
    "        sup_title=\"x\"\n",
    "        save_to_path=f\"../plot/EDA/variation_of_target_distribution_by_feature_B.png\"\n",
    "    )\n",
    "    "
   ]
  },
  {
   "cell_type": "code",
   "execution_count": null,
   "id": "e6be7cf5",
   "metadata": {},
   "outputs": [],
   "source": []
  }
 ],
 "metadata": {
  "input_parameters": [],
  "kernelspec": {
   "display_name": "Python 3 (ipykernel)",
   "language": "python",
   "name": "python3"
  },
  "language_info": {
   "codemirror_mode": {
    "name": "ipython",
    "version": 3
   },
   "file_extension": ".py",
   "mimetype": "text/x-python",
   "name": "python",
   "nbconvert_exporter": "python",
   "pygments_lexer": "ipython3",
   "version": "3.9.7"
  },
  "name": ""
 },
 "nbformat": 4,
 "nbformat_minor": 5
}
