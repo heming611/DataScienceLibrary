{
 "cells": [
  {
   "cell_type": "code",
   "execution_count": null,
   "id": "e19fafa4",
   "metadata": {},
   "outputs": [],
   "source": [
    "from package import *\n",
    "import importlib\n",
    "import utility as u\n",
    "importlib.reload(u)\n",
    "pass\n"
   ]
  },
  {
   "cell_type": "markdown",
   "id": "8d4acded",
   "metadata": {},
   "source": [
    "## Merge Data\n",
    "* A document: a document represents the story of ..."
   ]
  },
  {
   "cell_type": "code",
   "execution_count": null,
   "id": "530c7cea",
   "metadata": {},
   "outputs": [],
   "source": [
    "df_1 = pd.read_parquet(\"../data/data_1.parquet\")\n",
    "df_2 = pd.read_parquet(f\"../data/data_2.parquet\")\n",
    "\n",
    "data_util = u.DataUtilClass()\n",
    "# using inner join led to a very small amount of rows in invoice_df dropped. Therefore, not worth it to use left join and impute missing value\n",
    "df = data_util.merge(df_1, df_2, on = [\"A\"], how=\"inner\")\n",
    "print(\"using inner join led to retaining {:.2%} rows in invoice_df\".format(len(df)/len(df_1)))\n",
    "\n",
    "df.columns = [col.lower() for col in list(df.columns)]\n"
   ]
  },
  {
   "cell_type": "code",
   "execution_count": null,
   "id": "bb23afaf",
   "metadata": {},
   "outputs": [],
   "source": [
    "# data in data.parquet include both paid and posted invoices\n",
    "data_cleaner = u.DataCleanerUtilClass()\n",
    "df = data_cleaner.run(df)\n",
    "df.to_parquet(f\"../data/data.parquet\", index=False)\n"
   ]
  },
  {
   "cell_type": "code",
   "execution_count": null,
   "id": "2cb067ff",
   "metadata": {},
   "outputs": [],
   "source": []
  }
 ],
 "metadata": {
  "input_parameters": [],
  "kernelspec": {
   "display_name": "Python 3 (ipykernel)",
   "language": "python",
   "name": "python3"
  },
  "language_info": {
   "codemirror_mode": {
    "name": "ipython",
    "version": 3
   },
   "file_extension": ".py",
   "mimetype": "text/x-python",
   "name": "python",
   "nbconvert_exporter": "python",
   "pygments_lexer": "ipython3",
   "version": "3.9.7"
  },
  "name": ""
 },
 "nbformat": 4,
 "nbformat_minor": 5
}
