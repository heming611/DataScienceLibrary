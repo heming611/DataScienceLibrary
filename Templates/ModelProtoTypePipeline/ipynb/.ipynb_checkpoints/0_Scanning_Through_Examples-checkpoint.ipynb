{
 "cells": [
  {
   "cell_type": "code",
   "execution_count": null,
   "id": "b1b1f182",
   "metadata": {},
   "outputs": [],
   "source": [
    "from package import *\n",
    "import importlib\n",
    "import utility as u\n",
    "importlib.reload(u)\n",
    "pass\n"
   ]
  },
  {
   "cell_type": "code",
   "execution_count": null,
   "id": "ef1e29a2",
   "metadata": {},
   "outputs": [],
   "source": [
    "# write custom code to scan through example of user behavior to gain insight and the distribution of user behavior"
   ]
  },
  {
   "cell_type": "code",
   "execution_count": null,
   "id": "7b0ae55e",
   "metadata": {},
   "outputs": [],
   "source": []
  }
 ],
 "metadata": {
  "input_parameters": [],
  "kernelspec": {
   "display_name": "Python 3 (ipykernel)",
   "language": "python",
   "name": "python3"
  },
  "language_info": {
   "codemirror_mode": {
    "name": "ipython",
    "version": 3
   },
   "file_extension": ".py",
   "mimetype": "text/x-python",
   "name": "python",
   "nbconvert_exporter": "python",
   "pygments_lexer": "ipython3",
   "version": "3.9.7"
  },
  "name": ""
 },
 "nbformat": 4,
 "nbformat_minor": 5
}
