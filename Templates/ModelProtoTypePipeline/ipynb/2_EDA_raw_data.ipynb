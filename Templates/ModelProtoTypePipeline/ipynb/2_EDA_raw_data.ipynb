{
 "cells": [
  {
   "cell_type": "code",
   "execution_count": null,
   "id": "e9963a19",
   "metadata": {},
   "outputs": [],
   "source": [
    "from package import *\n",
    "import importlib\n",
    "import utility as u\n",
    "importlib.reload(u)\n",
    "pass\n"
   ]
  },
  {
   "cell_type": "markdown",
   "id": "0ec6fef8",
   "metadata": {},
   "source": [
    "### Complete story\n",
    "\n",
    "* **Feature set and hypothesis**\n",
    "    * Category 1\n",
    "        * Feature 1/hypothesis:\n",
    "        * Feature 2/hypothesis:\n",
    "    * Category 2\n",
    "        * Feature 1/hypothesis:\n",
    "        * Feature 2/hypothesis:\n"
   ]
  },
  {
   "cell_type": "code",
   "execution_count": null,
   "id": "516bceef",
   "metadata": {},
   "outputs": [],
   "source": [
    "df_1 = pd.read_parquet(\"../data/data_1.parquet\")\n",
    "df_2 = pd.read_parquet(f\"../data/data_2.parquet\")\n",
    "\n",
    "data_util = u.DataUtilClass()\n",
    "# using inner join led to a very small amount of rows in invoice_df dropped. Therefore, not worth it to use left join and impute missing value\n",
    "df = data_util.merge(df_1, df_2, on = [\"A\"], how=\"inner\")\n"
   ]
  },
  {
   "cell_type": "markdown",
   "id": "bf08ef97",
   "metadata": {},
   "source": [
    "### Inspect data missingness, distribution by pandas profile\n",
    "* This step will inform data clean step"
   ]
  },
  {
   "cell_type": "code",
   "execution_count": null,
   "id": "66d0609e",
   "metadata": {},
   "outputs": [],
   "source": [
    "df.profile_report()\n"
   ]
  },
  {
   "cell_type": "code",
   "execution_count": null,
   "id": "78fb40bf",
   "metadata": {},
   "outputs": [],
   "source": []
  }
 ],
 "metadata": {
  "input_parameters": [],
  "kernelspec": {
   "display_name": "Python 3 (ipykernel)",
   "language": "python",
   "name": "python3"
  },
  "language_info": {
   "codemirror_mode": {
    "name": "ipython",
    "version": 3
   },
   "file_extension": ".py",
   "mimetype": "text/x-python",
   "name": "python",
   "nbconvert_exporter": "python",
   "pygments_lexer": "ipython3",
   "version": "3.9.7"
  },
  "name": ""
 },
 "nbformat": 4,
 "nbformat_minor": 5
}
