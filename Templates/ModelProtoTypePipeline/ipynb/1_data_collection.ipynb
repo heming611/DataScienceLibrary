{
 "cells": [
  {
   "cell_type": "code",
   "execution_count": null,
   "id": "357e6a1b",
   "metadata": {},
   "outputs": [],
   "source": [
    "from package import *\n",
    "import importlib\n",
    "import utility as u\n",
    "importlib.reload(u)\n",
    "pass\n"
   ]
  },
  {
   "cell_type": "code",
   "execution_count": null,
   "id": "4e7e395d",
   "metadata": {
    "scrolled": true
   },
   "outputs": [],
   "source": [
    "conn = snowflake.connector.connect(\n",
    "    user=u.SNOWFLAKE_USER,\n",
    "    role=u.SNOWFLAKE_ROLE,\n",
    "    private_key=u.SNOWFLAKE_PRIVATE_KEY,\n",
    "    account=\"xxx\",\n",
    "    warehouse=u.SNOWFLAKE_WAREHOUSE\n",
    "    )\n"
   ]
  },
  {
   "cell_type": "code",
   "execution_count": null,
   "id": "cf6b2b4b",
   "metadata": {},
   "outputs": [],
   "source": [
    "data_collector = u.DataCollectorUtilClass(conn)\n",
    "data_collector.run(u.START_DATE_TRAIN_DATA)\n"
   ]
  },
  {
   "cell_type": "code",
   "execution_count": null,
   "id": "a40d62a1",
   "metadata": {},
   "outputs": [],
   "source": []
  }
 ],
 "metadata": {
  "input_parameters": [],
  "kernelspec": {
   "display_name": "Python 3 (ipykernel)",
   "language": "python",
   "name": "python3"
  },
  "language_info": {
   "codemirror_mode": {
    "name": "ipython",
    "version": 3
   },
   "file_extension": ".py",
   "mimetype": "text/x-python",
   "name": "python",
   "nbconvert_exporter": "python",
   "pygments_lexer": "ipython3",
   "version": "3.9.7"
  },
  "name": ""
 },
 "nbformat": 4,
 "nbformat_minor": 5
}
